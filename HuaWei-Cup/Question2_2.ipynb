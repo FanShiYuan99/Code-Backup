{
 "cells": [
  {
   "cell_type": "code",
   "execution_count": 1,
   "metadata": {},
   "outputs": [],
   "source": [
    "import numpy as np\n",
    "import pandas as pd\n",
    "from sklearn.ensemble import RandomForestClassifier\n",
    "from sklearn.model_selection import train_test_split\n",
    "from sklearn.metrics import accuracy_score, classification_report\n",
    "import matplotlib.pyplot as plt\n",
    "%matplotlib inline\n",
    "file = open(r'E:\\Users\\OneDrive\\桌面\\Q2_retrain2.csv','rb')\n",
    "data=pd.read_csv(file)\n",
    "file.close()"
   ]
  },
  {
   "cell_type": "code",
   "execution_count": 2,
   "metadata": {},
   "outputs": [
    {
     "name": "stdout",
     "output_type": "stream",
     "text": [
      "Learned k: 0.19188767398175766, a: 1.6059339420803147, b: 2.506608964371062\n",
      "0.12618599674879416\n",
      "1846456555.7964282\n"
     ]
    }
   ],
   "source": [
    "def data_deal(data):\n",
    "    F1 = []\n",
    "    F2 = []\n",
    "    F3 = []\n",
    "    for i in range(len(data)):\n",
    "        F1.append(data[i,1])\n",
    "        F2.append(max(data[i,4:]))\n",
    "        F3.append(data[i,0])\n",
    "    F1 =np.array(F1).reshape(-1,1)\n",
    "    F2 =np.array(F2).reshape(-1,1)\n",
    "    F3 =np.array(F3).reshape(-1,1)\n",
    "    result=np.hstack((F1,F2,F3))\n",
    "    return result,data[:,2].reshape(-1,1)\n",
    "data=np.array(data)\n",
    "X, y = data_deal(data)\n",
    "from sklearn.linear_model import LinearRegression\n",
    "def log_x(XX,y):\n",
    "    P = np.log(y)\n",
    "    X = np.log(XX[:,0])\n",
    "    Y = np.log(XX[:,1])\n",
    "    X_matrix = np.vstack((X, Y)).T\n",
    "    return X_matrix, P\n",
    "X_matrix, lnP = log_x(X, y)\n",
    "# 使用线性回归拟合\n",
    "model = LinearRegression()\n",
    "model.fit(X_matrix, lnP)\n",
    "\n",
    "# 提取参数\n",
    "log_k = model.intercept_\n",
    "a = model.coef_[0][0]\n",
    "b = model.coef_[0][1]\n",
    "k = np.exp(log_k).item()\n",
    "\n",
    "# 输出结果\n",
    "print(f'Learned k: {k}, a: {a}, b: {b}')\n",
    "y_pre = model.predict(X_matrix)\n",
    "print(np.mean((y_pre-lnP)**2))\n",
    "print(np.mean((np.exp(y_pre)-np.exp(lnP))**2))"
   ]
  },
  {
   "cell_type": "code",
   "execution_count": null,
   "metadata": {},
   "outputs": [],
   "source": []
  },
  {
   "cell_type": "code",
   "execution_count": null,
   "metadata": {},
   "outputs": [],
   "source": []
  },
  {
   "cell_type": "code",
   "execution_count": null,
   "metadata": {},
   "outputs": [],
   "source": []
  },
  {
   "cell_type": "code",
   "execution_count": null,
   "metadata": {},
   "outputs": [],
   "source": []
  },
  {
   "cell_type": "code",
   "execution_count": null,
   "metadata": {},
   "outputs": [],
   "source": []
  }
 ],
 "metadata": {
  "kernelspec": {
   "display_name": "Python 3",
   "language": "python",
   "name": "python3"
  },
  "language_info": {
   "codemirror_mode": {
    "name": "ipython",
    "version": 3
   },
   "file_extension": ".py",
   "mimetype": "text/x-python",
   "name": "python",
   "nbconvert_exporter": "python",
   "pygments_lexer": "ipython3",
   "version": "3.7.0"
  }
 },
 "nbformat": 4,
 "nbformat_minor": 2
}
