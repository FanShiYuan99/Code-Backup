{
 "cells": [
  {
   "cell_type": "code",
   "execution_count": 1,
   "metadata": {},
   "outputs": [
    {
     "data": {
      "text/html": [
       "<div>\n",
       "<style scoped>\n",
       "    .dataframe tbody tr th:only-of-type {\n",
       "        vertical-align: middle;\n",
       "    }\n",
       "\n",
       "    .dataframe tbody tr th {\n",
       "        vertical-align: top;\n",
       "    }\n",
       "\n",
       "    .dataframe thead th {\n",
       "        text-align: right;\n",
       "    }\n",
       "</style>\n",
       "<table border=\"1\" class=\"dataframe\">\n",
       "  <thead>\n",
       "    <tr style=\"text-align: right;\">\n",
       "      <th></th>\n",
       "      <th>温度，oC</th>\n",
       "      <th>频率，Hz</th>\n",
       "      <th>磁芯损耗，w/m3</th>\n",
       "      <th>励磁波形</th>\n",
       "      <th>0（磁通密度B，T）</th>\n",
       "      <th>1</th>\n",
       "      <th>2</th>\n",
       "      <th>3</th>\n",
       "      <th>4</th>\n",
       "      <th>5</th>\n",
       "      <th>...</th>\n",
       "      <th>1014</th>\n",
       "      <th>1015</th>\n",
       "      <th>1016</th>\n",
       "      <th>1017</th>\n",
       "      <th>1018</th>\n",
       "      <th>1019</th>\n",
       "      <th>1020</th>\n",
       "      <th>1021</th>\n",
       "      <th>1022</th>\n",
       "      <th>1023</th>\n",
       "    </tr>\n",
       "  </thead>\n",
       "  <tbody>\n",
       "    <tr>\n",
       "      <th>0</th>\n",
       "      <td>50</td>\n",
       "      <td>50020</td>\n",
       "      <td>1095.616077</td>\n",
       "      <td>1</td>\n",
       "      <td>-0.000262</td>\n",
       "      <td>-0.000090</td>\n",
       "      <td>0.000082</td>\n",
       "      <td>0.000254</td>\n",
       "      <td>0.000427</td>\n",
       "      <td>0.000599</td>\n",
       "      <td>...</td>\n",
       "      <td>-0.001984</td>\n",
       "      <td>-0.001812</td>\n",
       "      <td>-0.001640</td>\n",
       "      <td>-0.001468</td>\n",
       "      <td>-0.001296</td>\n",
       "      <td>-0.001124</td>\n",
       "      <td>-0.000952</td>\n",
       "      <td>-0.000780</td>\n",
       "      <td>-0.000608</td>\n",
       "      <td>-0.000435</td>\n",
       "    </tr>\n",
       "    <tr>\n",
       "      <th>1</th>\n",
       "      <td>50</td>\n",
       "      <td>50020</td>\n",
       "      <td>1909.335870</td>\n",
       "      <td>1</td>\n",
       "      <td>-0.001367</td>\n",
       "      <td>-0.001152</td>\n",
       "      <td>-0.000938</td>\n",
       "      <td>-0.000724</td>\n",
       "      <td>-0.000510</td>\n",
       "      <td>-0.000295</td>\n",
       "      <td>...</td>\n",
       "      <td>-0.003505</td>\n",
       "      <td>-0.003291</td>\n",
       "      <td>-0.003077</td>\n",
       "      <td>-0.002863</td>\n",
       "      <td>-0.002649</td>\n",
       "      <td>-0.002436</td>\n",
       "      <td>-0.002222</td>\n",
       "      <td>-0.002009</td>\n",
       "      <td>-0.001795</td>\n",
       "      <td>-0.001581</td>\n",
       "    </tr>\n",
       "    <tr>\n",
       "      <th>2</th>\n",
       "      <td>50</td>\n",
       "      <td>50020</td>\n",
       "      <td>2623.160983</td>\n",
       "      <td>1</td>\n",
       "      <td>0.002120</td>\n",
       "      <td>0.002363</td>\n",
       "      <td>0.002606</td>\n",
       "      <td>0.002848</td>\n",
       "      <td>0.003091</td>\n",
       "      <td>0.003334</td>\n",
       "      <td>...</td>\n",
       "      <td>-0.000311</td>\n",
       "      <td>-0.000068</td>\n",
       "      <td>0.000176</td>\n",
       "      <td>0.000419</td>\n",
       "      <td>0.000662</td>\n",
       "      <td>0.000906</td>\n",
       "      <td>0.001148</td>\n",
       "      <td>0.001391</td>\n",
       "      <td>0.001634</td>\n",
       "      <td>0.001877</td>\n",
       "    </tr>\n",
       "    <tr>\n",
       "      <th>3</th>\n",
       "      <td>50</td>\n",
       "      <td>50020</td>\n",
       "      <td>3549.272659</td>\n",
       "      <td>1</td>\n",
       "      <td>0.000773</td>\n",
       "      <td>0.001047</td>\n",
       "      <td>0.001321</td>\n",
       "      <td>0.001594</td>\n",
       "      <td>0.001867</td>\n",
       "      <td>0.002141</td>\n",
       "      <td>...</td>\n",
       "      <td>-0.001962</td>\n",
       "      <td>-0.001689</td>\n",
       "      <td>-0.001416</td>\n",
       "      <td>-0.001143</td>\n",
       "      <td>-0.000870</td>\n",
       "      <td>-0.000596</td>\n",
       "      <td>-0.000323</td>\n",
       "      <td>-0.000049</td>\n",
       "      <td>0.000225</td>\n",
       "      <td>0.000499</td>\n",
       "    </tr>\n",
       "    <tr>\n",
       "      <th>4</th>\n",
       "      <td>50</td>\n",
       "      <td>50030</td>\n",
       "      <td>4845.135951</td>\n",
       "      <td>1</td>\n",
       "      <td>0.001647</td>\n",
       "      <td>0.001954</td>\n",
       "      <td>0.002262</td>\n",
       "      <td>0.002569</td>\n",
       "      <td>0.002875</td>\n",
       "      <td>0.003180</td>\n",
       "      <td>...</td>\n",
       "      <td>-0.001421</td>\n",
       "      <td>-0.001114</td>\n",
       "      <td>-0.000809</td>\n",
       "      <td>-0.000502</td>\n",
       "      <td>-0.000196</td>\n",
       "      <td>0.000111</td>\n",
       "      <td>0.000418</td>\n",
       "      <td>0.000724</td>\n",
       "      <td>0.001031</td>\n",
       "      <td>0.001339</td>\n",
       "    </tr>\n",
       "    <tr>\n",
       "      <th>...</th>\n",
       "      <td>...</td>\n",
       "      <td>...</td>\n",
       "      <td>...</td>\n",
       "      <td>...</td>\n",
       "      <td>...</td>\n",
       "      <td>...</td>\n",
       "      <td>...</td>\n",
       "      <td>...</td>\n",
       "      <td>...</td>\n",
       "      <td>...</td>\n",
       "      <td>...</td>\n",
       "      <td>...</td>\n",
       "      <td>...</td>\n",
       "      <td>...</td>\n",
       "      <td>...</td>\n",
       "      <td>...</td>\n",
       "      <td>...</td>\n",
       "      <td>...</td>\n",
       "      <td>...</td>\n",
       "      <td>...</td>\n",
       "      <td>...</td>\n",
       "    </tr>\n",
       "    <tr>\n",
       "      <th>251</th>\n",
       "      <td>50</td>\n",
       "      <td>281850</td>\n",
       "      <td>35884.766920</td>\n",
       "      <td>1</td>\n",
       "      <td>-0.000596</td>\n",
       "      <td>-0.000353</td>\n",
       "      <td>-0.000110</td>\n",
       "      <td>0.000133</td>\n",
       "      <td>0.000375</td>\n",
       "      <td>0.000618</td>\n",
       "      <td>...</td>\n",
       "      <td>-0.003021</td>\n",
       "      <td>-0.002779</td>\n",
       "      <td>-0.002537</td>\n",
       "      <td>-0.002294</td>\n",
       "      <td>-0.002052</td>\n",
       "      <td>-0.001809</td>\n",
       "      <td>-0.001567</td>\n",
       "      <td>-0.001325</td>\n",
       "      <td>-0.001082</td>\n",
       "      <td>-0.000839</td>\n",
       "    </tr>\n",
       "    <tr>\n",
       "      <th>252</th>\n",
       "      <td>50</td>\n",
       "      <td>281850</td>\n",
       "      <td>49073.220090</td>\n",
       "      <td>1</td>\n",
       "      <td>0.000737</td>\n",
       "      <td>0.001010</td>\n",
       "      <td>0.001282</td>\n",
       "      <td>0.001555</td>\n",
       "      <td>0.001828</td>\n",
       "      <td>0.002101</td>\n",
       "      <td>...</td>\n",
       "      <td>-0.001991</td>\n",
       "      <td>-0.001718</td>\n",
       "      <td>-0.001445</td>\n",
       "      <td>-0.001172</td>\n",
       "      <td>-0.000900</td>\n",
       "      <td>-0.000627</td>\n",
       "      <td>-0.000354</td>\n",
       "      <td>-0.000082</td>\n",
       "      <td>0.000191</td>\n",
       "      <td>0.000464</td>\n",
       "    </tr>\n",
       "    <tr>\n",
       "      <th>253</th>\n",
       "      <td>50</td>\n",
       "      <td>281850</td>\n",
       "      <td>64079.111640</td>\n",
       "      <td>1</td>\n",
       "      <td>-0.000499</td>\n",
       "      <td>-0.000195</td>\n",
       "      <td>0.000109</td>\n",
       "      <td>0.000413</td>\n",
       "      <td>0.000717</td>\n",
       "      <td>0.001020</td>\n",
       "      <td>...</td>\n",
       "      <td>-0.003533</td>\n",
       "      <td>-0.003231</td>\n",
       "      <td>-0.002928</td>\n",
       "      <td>-0.002624</td>\n",
       "      <td>-0.002320</td>\n",
       "      <td>-0.002017</td>\n",
       "      <td>-0.001713</td>\n",
       "      <td>-0.001410</td>\n",
       "      <td>-0.001107</td>\n",
       "      <td>-0.000803</td>\n",
       "    </tr>\n",
       "    <tr>\n",
       "      <th>254</th>\n",
       "      <td>50</td>\n",
       "      <td>281850</td>\n",
       "      <td>86189.622240</td>\n",
       "      <td>1</td>\n",
       "      <td>0.000125</td>\n",
       "      <td>0.000468</td>\n",
       "      <td>0.000811</td>\n",
       "      <td>0.001154</td>\n",
       "      <td>0.001496</td>\n",
       "      <td>0.001838</td>\n",
       "      <td>...</td>\n",
       "      <td>-0.003300</td>\n",
       "      <td>-0.002957</td>\n",
       "      <td>-0.002614</td>\n",
       "      <td>-0.002272</td>\n",
       "      <td>-0.001929</td>\n",
       "      <td>-0.001587</td>\n",
       "      <td>-0.001245</td>\n",
       "      <td>-0.000903</td>\n",
       "      <td>-0.000561</td>\n",
       "      <td>-0.000218</td>\n",
       "    </tr>\n",
       "    <tr>\n",
       "      <th>255</th>\n",
       "      <td>50</td>\n",
       "      <td>281850</td>\n",
       "      <td>113588.705300</td>\n",
       "      <td>1</td>\n",
       "      <td>-0.001528</td>\n",
       "      <td>-0.001146</td>\n",
       "      <td>-0.000765</td>\n",
       "      <td>-0.000384</td>\n",
       "      <td>-0.000002</td>\n",
       "      <td>0.000379</td>\n",
       "      <td>...</td>\n",
       "      <td>-0.005337</td>\n",
       "      <td>-0.004956</td>\n",
       "      <td>-0.004576</td>\n",
       "      <td>-0.004195</td>\n",
       "      <td>-0.003814</td>\n",
       "      <td>-0.003433</td>\n",
       "      <td>-0.003052</td>\n",
       "      <td>-0.002671</td>\n",
       "      <td>-0.002290</td>\n",
       "      <td>-0.001909</td>\n",
       "    </tr>\n",
       "  </tbody>\n",
       "</table>\n",
       "<p>256 rows × 1028 columns</p>\n",
       "</div>"
      ],
      "text/plain": [
       "     温度，oC   频率，Hz      磁芯损耗，w/m3  励磁波形  0（磁通密度B，T）         1         2  \\\n",
       "0       50   50020    1095.616077     1   -0.000262 -0.000090  0.000082   \n",
       "1       50   50020    1909.335870     1   -0.001367 -0.001152 -0.000938   \n",
       "2       50   50020    2623.160983     1    0.002120  0.002363  0.002606   \n",
       "3       50   50020    3549.272659     1    0.000773  0.001047  0.001321   \n",
       "4       50   50030    4845.135951     1    0.001647  0.001954  0.002262   \n",
       "..     ...     ...            ...   ...         ...       ...       ...   \n",
       "251     50  281850   35884.766920     1   -0.000596 -0.000353 -0.000110   \n",
       "252     50  281850   49073.220090     1    0.000737  0.001010  0.001282   \n",
       "253     50  281850   64079.111640     1   -0.000499 -0.000195  0.000109   \n",
       "254     50  281850   86189.622240     1    0.000125  0.000468  0.000811   \n",
       "255     50  281850  113588.705300     1   -0.001528 -0.001146 -0.000765   \n",
       "\n",
       "            3         4         5  ...      1014      1015      1016  \\\n",
       "0    0.000254  0.000427  0.000599  ... -0.001984 -0.001812 -0.001640   \n",
       "1   -0.000724 -0.000510 -0.000295  ... -0.003505 -0.003291 -0.003077   \n",
       "2    0.002848  0.003091  0.003334  ... -0.000311 -0.000068  0.000176   \n",
       "3    0.001594  0.001867  0.002141  ... -0.001962 -0.001689 -0.001416   \n",
       "4    0.002569  0.002875  0.003180  ... -0.001421 -0.001114 -0.000809   \n",
       "..        ...       ...       ...  ...       ...       ...       ...   \n",
       "251  0.000133  0.000375  0.000618  ... -0.003021 -0.002779 -0.002537   \n",
       "252  0.001555  0.001828  0.002101  ... -0.001991 -0.001718 -0.001445   \n",
       "253  0.000413  0.000717  0.001020  ... -0.003533 -0.003231 -0.002928   \n",
       "254  0.001154  0.001496  0.001838  ... -0.003300 -0.002957 -0.002614   \n",
       "255 -0.000384 -0.000002  0.000379  ... -0.005337 -0.004956 -0.004576   \n",
       "\n",
       "         1017      1018      1019      1020      1021      1022      1023  \n",
       "0   -0.001468 -0.001296 -0.001124 -0.000952 -0.000780 -0.000608 -0.000435  \n",
       "1   -0.002863 -0.002649 -0.002436 -0.002222 -0.002009 -0.001795 -0.001581  \n",
       "2    0.000419  0.000662  0.000906  0.001148  0.001391  0.001634  0.001877  \n",
       "3   -0.001143 -0.000870 -0.000596 -0.000323 -0.000049  0.000225  0.000499  \n",
       "4   -0.000502 -0.000196  0.000111  0.000418  0.000724  0.001031  0.001339  \n",
       "..        ...       ...       ...       ...       ...       ...       ...  \n",
       "251 -0.002294 -0.002052 -0.001809 -0.001567 -0.001325 -0.001082 -0.000839  \n",
       "252 -0.001172 -0.000900 -0.000627 -0.000354 -0.000082  0.000191  0.000464  \n",
       "253 -0.002624 -0.002320 -0.002017 -0.001713 -0.001410 -0.001107 -0.000803  \n",
       "254 -0.002272 -0.001929 -0.001587 -0.001245 -0.000903 -0.000561 -0.000218  \n",
       "255 -0.004195 -0.003814 -0.003433 -0.003052 -0.002671 -0.002290 -0.001909  \n",
       "\n",
       "[256 rows x 1028 columns]"
      ]
     },
     "execution_count": 1,
     "metadata": {},
     "output_type": "execute_result"
    }
   ],
   "source": [
    "import numpy as np\n",
    "import pandas as pd\n",
    "from sklearn.ensemble import RandomForestClassifier\n",
    "from sklearn.model_selection import train_test_split\n",
    "from sklearn.metrics import accuracy_score, classification_report\n",
    "import matplotlib.pyplot as plt\n",
    "%matplotlib inline\n",
    "file = open(r'E:\\Users\\OneDrive\\桌面\\Q2_train1.csv','rb')\n",
    "data=pd.read_csv(file)\n",
    "file.close()\n",
    "data"
   ]
  },
  {
   "cell_type": "code",
   "execution_count": 2,
   "metadata": {},
   "outputs": [],
   "source": [
    "def data_deal(data):\n",
    "    F1 = []\n",
    "    F2 = []\n",
    "    F3 = []\n",
    "    for i in range(len(data)):\n",
    "        F1.append(data[i,1])\n",
    "        F2.append(max(data[i,4:])-min(data[i,4:]))\n",
    "        F3.append(data[i,0])\n",
    "    F1 =np.array(F1).reshape(-1,1)\n",
    "    F2 =np.array(F2).reshape(-1,1)\n",
    "    F3 =np.array(F3).reshape(-1,1)\n",
    "    result=np.hstack((F1,F2,F3))\n",
    "    return result,data[:,2].reshape(-1,1)\n",
    "data=np.array(data)\n",
    "XX, y = data_deal(data)"
   ]
  },
  {
   "cell_type": "code",
   "execution_count": 3,
   "metadata": {},
   "outputs": [
    {
     "name": "stdout",
     "output_type": "stream",
     "text": [
      "Learned k: 0.13319052864338846, a: 1.494529605690877, b: 2.5261997779705014\n",
      "0.009300358214534725\n",
      "Learned k: 0.00206198678679502, a: 1.8274831858602854, b: 2.114922497635208\n",
      "0.12412966676500611\n",
      "Learned k: 1.4671518994928918, a: 1.3124703881010424, b: 2.4579980686752294\n",
      "0.006365681413603789\n",
      "Learned k: 0.03439113356431506, a: 1.6341204202588973, b: 2.4903882119092384\n",
      "0.027162716650022015\n",
      "材料一50度 波形1 训练误差： 0.009300358214534725 \n",
      "材料一50度 波形2 误差： 0.9810691311022843 \n",
      "材料一25度 波形1 误差： 0.19226358838421326 \n",
      "材料二50度 波形1 误差： 0.19447071228495078\n"
     ]
    }
   ],
   "source": [
    "from sklearn.linear_model import LinearRegression\n",
    "def log_x(XX,y):\n",
    "    P = np.log(y)\n",
    "    X = np.log(XX[:,0])\n",
    "    Y = np.log(XX[:,1])\n",
    "    X_matrix = np.vstack((X, Y)).T\n",
    "    return X_matrix, P\n",
    "X_matrix, lnP = log_x(XX,y)\n",
    "# 使用线性回归拟合\n",
    "def model_use(X_matrix, lnP):\n",
    "    model = LinearRegression()\n",
    "    model.fit(X_matrix, lnP)\n",
    "\n",
    "    # 提取参数\n",
    "    log_k = model.intercept_\n",
    "    a = model.coef_[0][0]\n",
    "    b = model.coef_[0][1]\n",
    "    k = np.exp(log_k).item()\n",
    "\n",
    "    # 输出结果\n",
    "    print(f'Learned k: {k}, a: {a}, b: {b}')\n",
    "    y_pre = model.predict(X_matrix)\n",
    "    error=np.mean((y_pre-lnP)**2)\n",
    "    print(error)\n",
    "    return error,model\n",
    "error,model = model_use(X_matrix, lnP)\n",
    "file = open(r'E:\\Users\\OneDrive\\桌面\\Q2_test1.csv','rb')\n",
    "test1=pd.read_csv(file)\n",
    "file.close()\n",
    "file = open(r'E:\\Users\\OneDrive\\桌面\\Q2_test2.csv','rb')\n",
    "test2=pd.read_csv(file)\n",
    "file.close()\n",
    "file = open(r'E:\\Users\\OneDrive\\桌面\\Q2_test3.csv','rb')\n",
    "test3=pd.read_csv(file)\n",
    "file.close()\n",
    "data=np.array(test1)\n",
    "XX, y = data_deal(data)\n",
    "X_matrix1, P1 = log_x(XX,y)\n",
    "model_use(X_matrix1, P1)\n",
    "y_pre1 = model.predict(X_matrix1)\n",
    "error1 = np.mean((y_pre1-P1)**2)\n",
    "\n",
    "data=np.array(test2)\n",
    "XX, y = data_deal(data)\n",
    "X_matrix2, P2 = log_x(XX,y)\n",
    "model_use(X_matrix2, P2)\n",
    "y_pre2 = model.predict(X_matrix2)\n",
    "error2 = np.mean((y_pre2-P2)**2)\n",
    "\n",
    "data=np.array(test3)\n",
    "XX, y = data_deal(data)\n",
    "X_matrix3, P3 = log_x(XX,y)\n",
    "model_use(X_matrix3, P3)\n",
    "y_pre3 = model.predict(X_matrix3)\n",
    "error3 = np.mean((y_pre3-P3)**2)\n",
    "\n",
    "print('材料一50度 波形1 训练误差：',error,'\\n材料一50度 波形2 误差：',error1,'\\n材料一25度 波形1 误差：',error2,'\\n材料二50度 波形1 误差：',error3)"
   ]
  },
  {
   "cell_type": "code",
   "execution_count": 4,
   "metadata": {},
   "outputs": [
    {
     "name": "stdout",
     "output_type": "stream",
     "text": [
      "Learned k: 1.4671518994928918, a: 1.3124703881010424, b: 2.4579980686752294\n",
      "Learned k: 0.13319052864338846, a: 1.494529605690877, b: 2.5261997779705014\n",
      "Learned k: 0.00403602010157188, a: 1.7751390745960558, b: 2.5264881910301877\n",
      "Learned k: 0.0005113154078315542, a: 1.9492348065271698, b: 2.5803868782978836\n",
      "25误差： 0.19226358838421326 \n",
      "50误差： 0.009300358214534725 \n",
      "70误差： 0.09836359752330547 \n",
      "90误差： 0.21751603495804822\n"
     ]
    }
   ],
   "source": [
    "def f(X_matrix,lnP):\n",
    "    X_matrix, lnP = log_x(XX,y)\n",
    "    # 使用线性回归拟合\n",
    "    model = LinearRegression()\n",
    "    model.fit(X_matrix, lnP)\n",
    "\n",
    "    # 提取参数\n",
    "    log_k = model.intercept_\n",
    "    a = model.coef_[0][0]\n",
    "    b = model.coef_[0][1]\n",
    "    k = np.exp(log_k).item()\n",
    "    print(f'Learned k: {k}, a: {a}, b: {b}')\n",
    "file = open(r'E:\\Users\\OneDrive\\桌面\\data1_25.csv','rb')\n",
    "test1=pd.read_csv(file)\n",
    "file.close()\n",
    "file = open(r'E:\\Users\\OneDrive\\桌面\\data1_50.csv','rb')\n",
    "test2=pd.read_csv(file)\n",
    "file.close()\n",
    "file = open(r'E:\\Users\\OneDrive\\桌面\\data1_70.csv','rb')\n",
    "test3=pd.read_csv(file)\n",
    "file.close()\n",
    "file = open(r'E:\\Users\\OneDrive\\桌面\\data1_90.csv','rb')\n",
    "test4=pd.read_csv(file)\n",
    "file.close()\n",
    "\n",
    "data=np.array(test1)\n",
    "XX, y = data_deal(data)\n",
    "X_matrix1, P1 = log_x(XX,y)\n",
    "f(X_matrix1, P1)\n",
    "y_pre1 = model.predict(X_matrix1)\n",
    "error1 = np.mean((y_pre1-P1)**2)\n",
    "\n",
    "data=np.array(test2)\n",
    "XX, y = data_deal(data)\n",
    "X_matrix2, P2 = log_x(XX,y)\n",
    "f(X_matrix2, P2)\n",
    "y_pre2 = model.predict(X_matrix2)\n",
    "error2 = np.mean((y_pre2-P2)**2)\n",
    "\n",
    "data=np.array(test3)\n",
    "XX, y = data_deal(data)\n",
    "X_matrix3, P3 = log_x(XX,y)\n",
    "f(X_matrix3, P3)\n",
    "y_pre3 = model.predict(X_matrix3)\n",
    "error3 = np.mean((y_pre3-P3)**2)\n",
    "\n",
    "data=np.array(test4)\n",
    "XX, y = data_deal(data)\n",
    "X_matrix4, P4 = log_x(XX,y)\n",
    "f(X_matrix4, P4)\n",
    "y_pre4 = model.predict(X_matrix4)\n",
    "error4 = np.mean((y_pre4-P4)**2)\n",
    "\n",
    "print('25误差：',error1,'\\n50误差：',error2,'\\n70误差：',error3,'\\n90误差：',error4) "
   ]
  },
  {
   "cell_type": "code",
   "execution_count": 19,
   "metadata": {},
   "outputs": [
    {
     "data": {
      "image/png": "[encoded data removed]",
      "text/plain": [
       "<Figure size 432x288 with 1 Axes>"
      ]
     },
     "metadata": {
      "needs_background": "light"
     },
     "output_type": "display_data"
    },
    {
     "data": {
      "image/png": "[encoded data removed]",
      "text/plain": [
       "<Figure size 432x288 with 1 Axes>"
      ]
     },
     "metadata": {
      "needs_background": "light"
     },
     "output_type": "display_data"
    },
    {
     "data": {
      "image/png": "[encoded data removed]",
      "text/plain": [
       "<Figure size 432x288 with 1 Axes>"
      ]
     },
     "metadata": {
      "needs_background": "light"
     },
     "output_type": "display_data"
    }
   ],
   "source": [
    "A=[1.4671518994928918, 1.3124703881010424, 2.4579980686752294]\n",
    "B=[0.13319052864338846, 1.494529605690877, 2.5261997779705014]\n",
    "C=[0.00403602010157188, 1.7751390745960558, 2.5264881910301877]\n",
    "D=[0.0005113154078315542, 1.9492348065271698, 2.5803868782978836]\n",
    "Label=['k','a','b']\n",
    "for i in range(3):\n",
    "    plt.plot(['25','50','70','90'],[A[i],B[i],C[i],D[i]],label=Label[i])\n",
    "    plt.legend()\n",
    "    plt.xlabel('T')\n",
    "    plt.show()"
   ]
  },
  {
   "cell_type": "code",
   "execution_count": 30,
   "metadata": {},
   "outputs": [
    {
     "data": {
      "text/plain": [
       "array([[10.8203781 , -2.85269244, 25.        ,  7.59987956],\n",
       "       [10.8201782 , -2.76706042, 25.        ,  7.79472011],\n",
       "       [10.8201782 , -2.64440986, 25.        ,  8.11154579],\n",
       "       ...,\n",
       "       [12.66422508, -2.19947494, 90.        , 11.45837873],\n",
       "       [12.66422508, -2.0848256 , 90.        , 11.72659881],\n",
       "       [12.66422508, -1.96696686, 90.        , 12.00592726]])"
      ]
     },
     "execution_count": 30,
     "metadata": {},
     "output_type": "execute_result"
    }
   ],
   "source": [
    "file = open(r'E:\\Users\\OneDrive\\桌面\\Q2_retrain2.csv','rb')\n",
    "data=pd.read_csv(file)\n",
    "file.close()\n",
    "data=np.array(data)\n",
    "XX, y = data_deal(data)\n",
    "X_matrix, lnP = log_x(XX,y)\n",
    "train_data = np.hstack((X_matrix,XX[:,2].reshape(-1,1),lnP))\n",
    "train_data"
   ]
  },
  {
   "cell_type": "code",
   "execution_count": 59,
   "metadata": {},
   "outputs": [
    {
     "name": "stdout",
     "output_type": "stream",
     "text": [
      "拟合参数 K: [ 1.03050380e+00  2.41619214e+00 -1.28604036e-01  1.03123511e-02\n",
      "  1.84710458e-03  3.83900354e+00]\n"
     ]
    }
   ],
   "source": [
    "from sklearn.linear_model import LinearRegression\n",
    "from sklearn.preprocessing import PolynomialFeatures\n",
    "X = train_data[:, :3]  # 自变量\n",
    "Y = train_data[:, 3]   # 因变量\n",
    "\n",
    "# 创建多项式特征，包括交叉项\n",
    "poly = PolynomialFeatures(interaction_only=True, include_bias=False)\n",
    "X_poly = poly.fit_transform(X)\n",
    "X_poly = X_poly[:,[0,1,2,4,5]]\n",
    "# 创建模型并拟合\n",
    "model = LinearRegression()\n",
    "model.fit(X_poly, Y)\n",
    "\n",
    "# 获取拟合参数\n",
    "K = np.append(model.coef_, model.intercept_)  # 包含 K1, K2, K3, K4, K5, K6\n",
    "\n",
    "print(\"拟合参数 K:\", K)"
   ]
  },
  {
   "cell_type": "code",
   "execution_count": 48,
   "metadata": {},
   "outputs": [
    {
     "name": "stdout",
     "output_type": "stream",
     "text": [
      "7.67651915694742\n"
     ]
    }
   ],
   "source": [
    "y_pre = model.predict(X_poly)\n",
    "error = np.mean((y_pre-lnP)**2)\n",
    "print(error)"
   ]
  },
  {
   "cell_type": "code",
   "execution_count": 60,
   "metadata": {},
   "outputs": [
    {
     "data": {
      "text/plain": [
       "array([ 10.8203781 ,  -2.85269244,  25.        , 270.50945261,\n",
       "       -71.31731099])"
      ]
     },
     "execution_count": 60,
     "metadata": {},
     "output_type": "execute_result"
    }
   ],
   "source": [
    "X_poly[0,:]"
   ]
  },
  {
   "cell_type": "code",
   "execution_count": 24,
   "metadata": {},
   "outputs": [
    {
     "data": {
      "image/png": "[encoded data removed]",
      "text/plain": [
       "<Figure size 648x288 with 1 Axes>"
      ]
     },
     "metadata": {
      "needs_background": "light"
     },
     "output_type": "display_data"
    }
   ],
   "source": [
    "window=180\n",
    "ro1 = test1['磁芯损耗，w/m3'].rolling(window=window).mean()\n",
    "ro2 = test2['磁芯损耗，w/m3'].rolling(window=window).mean()\n",
    "ro3 = test3['磁芯损耗，w/m3'].rolling(window=window).mean()\n",
    "ro4 = test4['磁芯损耗，w/m3'].rolling(window=window).mean()\n",
    "\n",
    "plt.figure(figsize=(9,4))\n",
    "plt.title('180 rolling line')\n",
    "plt.plot(ro1,label='25')\n",
    "plt.plot(ro2,label='50')\n",
    "plt.plot(ro3,label='70')\n",
    "plt.plot(ro4,label='90')\n",
    "plt.legend()\n",
    "plt.show()"
   ]
  },
  {
   "cell_type": "code",
   "execution_count": 27,
   "metadata": {},
   "outputs": [],
   "source": [
    "file = open(r'E:\\Users\\OneDrive\\桌面\\data1.csv','rb')\n",
    "test1=pd.read_csv(file)\n",
    "file.close()\n",
    "file = open(r'E:\\Users\\OneDrive\\桌面\\data2.csv','rb')\n",
    "test2=pd.read_csv(file)\n",
    "file.close()\n",
    "file = open(r'E:\\Users\\OneDrive\\桌面\\data3.csv','rb')\n",
    "test3=pd.read_csv(file)\n",
    "file.close()\n",
    "file = open(r'E:\\Users\\OneDrive\\桌面\\data4.csv','rb')\n",
    "test4=pd.read_csv(file)\n",
    "file.close()"
   ]
  },
  {
   "cell_type": "code",
   "execution_count": 33,
   "metadata": {},
   "outputs": [
    {
     "data": {
      "image/png": "[encoded data removed]",
      "text/plain": [
       "<Figure size 648x288 with 1 Axes>"
      ]
     },
     "metadata": {
      "needs_background": "light"
     },
     "output_type": "display_data"
    }
   ],
   "source": [
    "window=1000\n",
    "ro1 = test1['磁芯损耗，w/m3'].rolling(window=window).mean()\n",
    "ro2 = test2['磁芯损耗，w/m3'].rolling(window=window).mean()\n",
    "ro3 = test3['磁芯损耗，w/m3'].rolling(window=window).mean()\n",
    "ro4 = test4['磁芯损耗，w/m3'].rolling(window=window).mean()\n",
    "\n",
    "plt.figure(figsize=(9,4))\n",
    "plt.title('1000 rolling line')\n",
    "plt.plot(ro1,label='Material 1')\n",
    "plt.plot(ro2,label='Material 2')\n",
    "plt.plot(ro3,label='Material 3')\n",
    "plt.plot(ro4,label='Material 4')\n",
    "plt.legend()\n",
    "plt.show()"
   ]
  },
  {
   "cell_type": "code",
   "execution_count": 32,
   "metadata": {},
   "outputs": [
    {
     "name": "stdout",
     "output_type": "stream",
     "text": [
      "179886.94421603333 234317.14430713872 264453.0732378572 109469.24906428154\n"
     ]
    }
   ],
   "source": [
    "print(np.mean(test1['磁芯损耗，w/m3']),np.mean(test2['磁芯损耗，w/m3']),np.mean(test3['磁芯损耗，w/m3']),np.mean(test4['磁芯损耗，w/m3']))"
   ]
  },
  {
   "cell_type": "code",
   "execution_count": 35,
   "metadata": {},
   "outputs": [],
   "source": [
    "file = open(r'E:\\Users\\OneDrive\\桌面\\M1.csv','rb')\n",
    "test1=pd.read_csv(file)\n",
    "file.close()\n",
    "file = open(r'E:\\Users\\OneDrive\\桌面\\M2.csv','rb')\n",
    "test2=pd.read_csv(file)\n",
    "file.close()\n",
    "file = open(r'E:\\Users\\OneDrive\\桌面\\M3.csv','rb')\n",
    "test3=pd.read_csv(file)\n",
    "file.close()"
   ]
  },
  {
   "cell_type": "code",
   "execution_count": 45,
   "metadata": {},
   "outputs": [
    {
     "data": {
      "image/png": "[encoded data removed]",
      "text/plain": [
       "<Figure size 648x288 with 1 Axes>"
      ]
     },
     "metadata": {
      "needs_background": "light"
     },
     "output_type": "display_data"
    }
   ],
   "source": [
    "window=200\n",
    "ro1 = test1['磁芯损耗，w/m3'].rolling(window=window).mean()\n",
    "ro2 = test2['磁芯损耗，w/m3'].rolling(window=window).mean()\n",
    "ro3 = test3['磁芯损耗，w/m3'].rolling(window=window).mean()\n",
    "\n",
    "plt.figure(figsize=(9,4))\n",
    "plt.title('200 rolling line')\n",
    "plt.plot(ro1,label='Wave 1')\n",
    "plt.plot(ro2,label='Wave 2')\n",
    "plt.plot(ro3,label='Wave 3')\n",
    "plt.legend()\n",
    "plt.show()"
   ]
  },
  {
   "cell_type": "code",
   "execution_count": 41,
   "metadata": {},
   "outputs": [
    {
     "name": "stdout",
     "output_type": "stream",
     "text": [
      "101712.23173082597 229194.15188467706 194860.49578345058\n"
     ]
    }
   ],
   "source": [
    "print(np.mean(test1['磁芯损耗，w/m3']),np.mean(test2['磁芯损耗，w/m3']),np.mean(test3['磁芯损耗，w/m3']))"
   ]
  },
  {
   "cell_type": "code",
   "execution_count": null,
   "metadata": {},
   "outputs": [],
   "source": []
  }
 ],
 "metadata": {
  "kernelspec": {
   "display_name": "Python 3",
   "language": "python",
   "name": "python3"
  },
  "language_info": {
   "codemirror_mode": {
    "name": "ipython",
    "version": 3
   },
   "file_extension": ".py",
   "mimetype": "text/x-python",
   "name": "python",
   "nbconvert_exporter": "python",
   "pygments_lexer": "ipython3",
   "version": "3.7.0"
  }
 },
 "nbformat": 4,
 "nbformat_minor": 2
}
